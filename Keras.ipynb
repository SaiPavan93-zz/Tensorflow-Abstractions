{
 "cells": [
  {
   "cell_type": "code",
   "execution_count": 1,
   "metadata": {
    "collapsed": true
   },
   "outputs": [],
   "source": [
    "from sklearn.datasets import load_wine"
   ]
  },
  {
   "cell_type": "code",
   "execution_count": 2,
   "metadata": {
    "collapsed": true
   },
   "outputs": [],
   "source": [
    "wine_data=load_wine()"
   ]
  },
  {
   "cell_type": "code",
   "execution_count": 3,
   "metadata": {
    "collapsed": true
   },
   "outputs": [],
   "source": [
    "feature=wine_data['data']"
   ]
  },
  {
   "cell_type": "code",
   "execution_count": 4,
   "metadata": {
    "collapsed": true
   },
   "outputs": [],
   "source": [
    "labels=wine_data['target']"
   ]
  },
  {
   "cell_type": "code",
   "execution_count": 5,
   "metadata": {
    "collapsed": true
   },
   "outputs": [],
   "source": [
    "from sklearn.model_selection import train_test_split"
   ]
  },
  {
   "cell_type": "code",
   "execution_count": 6,
   "metadata": {
    "collapsed": true
   },
   "outputs": [],
   "source": [
    "X_train, X_test, y_train, y_test=train_test_split(feature,labels,test_size=0.3,random_state=101)"
   ]
  },
  {
   "cell_type": "code",
   "execution_count": 7,
   "metadata": {
    "collapsed": true
   },
   "outputs": [],
   "source": [
    "from sklearn.preprocessing import MinMaxScaler"
   ]
  },
  {
   "cell_type": "code",
   "execution_count": 8,
   "metadata": {
    "collapsed": true
   },
   "outputs": [],
   "source": [
    "scaler=MinMaxScaler()"
   ]
  },
  {
   "cell_type": "code",
   "execution_count": 21,
   "metadata": {
    "collapsed": true
   },
   "outputs": [],
   "source": [
    "scaled_x_train=scaler.fit_transform(X_train)\n",
    "scaled_x_test=scaler.transform(X_test)"
   ]
  },
  {
   "cell_type": "code",
   "execution_count": 22,
   "metadata": {
    "collapsed": true
   },
   "outputs": [],
   "source": [
    "import tensorflow as tf"
   ]
  },
  {
   "cell_type": "code",
   "execution_count": 23,
   "metadata": {
    "collapsed": true
   },
   "outputs": [],
   "source": [
    "from tensorflow.contrib.keras import models\n",
    "from tensorflow.contrib.keras import layers"
   ]
  },
  {
   "cell_type": "code",
   "execution_count": 24,
   "metadata": {
    "collapsed": true
   },
   "outputs": [],
   "source": [
    "dnn_keras_model = models.Sequential()"
   ]
  },
  {
   "cell_type": "code",
   "execution_count": 25,
   "metadata": {
    "collapsed": true
   },
   "outputs": [],
   "source": [
    "dnn_keras_model.add(layers.Dense(units=13,input_dim=13,activation='relu'))"
   ]
  },
  {
   "cell_type": "code",
   "execution_count": 26,
   "metadata": {
    "collapsed": true
   },
   "outputs": [],
   "source": [
    "dnn_keras_model.add(layers.Dense(units=13,activation='relu'))\n",
    "dnn_keras_model.add(layers.Dense(units=13,activation='relu'))"
   ]
  },
  {
   "cell_type": "code",
   "execution_count": 27,
   "metadata": {
    "collapsed": true
   },
   "outputs": [],
   "source": [
    "dnn_keras_model.add(layers.Dense(units=3,activation='softmax'))"
   ]
  },
  {
   "cell_type": "code",
   "execution_count": 28,
   "metadata": {
    "collapsed": true
   },
   "outputs": [],
   "source": [
    "from tensorflow.contrib.keras import losses,optimizers,metrics,activations"
   ]
  },
  {
   "cell_type": "code",
   "execution_count": 29,
   "metadata": {
    "collapsed": true
   },
   "outputs": [],
   "source": [
    "dnn_keras_model.compile(optimizer='adam',loss='sparse_categorical_crossentropy',metrics=['accuracy'])"
   ]
  },
  {
   "cell_type": "code",
   "execution_count": 30,
   "metadata": {},
   "outputs": [
    {
     "name": "stdout",
     "output_type": "stream",
     "text": [
      "Epoch 1/50\n",
      "124/124 [==============================] - 0s - loss: 1.0746 - acc: 0.2823     \n",
      "Epoch 2/50\n",
      "124/124 [==============================] - 0s - loss: 1.0614 - acc: 0.2823     \n",
      "Epoch 3/50\n",
      "124/124 [==============================] - 0s - loss: 1.0486 - acc: 0.2903     \n",
      "Epoch 4/50\n",
      "124/124 [==============================] - 0s - loss: 1.0365 - acc: 0.3629     \n",
      "Epoch 5/50\n",
      "124/124 [==============================] - 0s - loss: 1.0244 - acc: 0.3871     \n",
      "Epoch 6/50\n",
      "124/124 [==============================] - 0s - loss: 1.0099 - acc: 0.4194     \n",
      "Epoch 7/50\n",
      "124/124 [==============================] - 0s - loss: 0.9967 - acc: 0.4435     \n",
      "Epoch 8/50\n",
      "124/124 [==============================] - 0s - loss: 0.9827 - acc: 0.4597     \n",
      "Epoch 9/50\n",
      "124/124 [==============================] - 0s - loss: 0.9692 - acc: 0.5323     \n",
      "Epoch 10/50\n",
      "124/124 [==============================] - 0s - loss: 0.9561 - acc: 0.5323     \n",
      "Epoch 11/50\n",
      "124/124 [==============================] - 0s - loss: 0.9433 - acc: 0.5323     \n",
      "Epoch 12/50\n",
      "124/124 [==============================] - 0s - loss: 0.9300 - acc: 0.5565     \n",
      "Epoch 13/50\n",
      "124/124 [==============================] - 0s - loss: 0.9153 - acc: 0.5565     \n",
      "Epoch 14/50\n",
      "124/124 [==============================] - 0s - loss: 0.9003 - acc: 0.5726     \n",
      "Epoch 15/50\n",
      "124/124 [==============================] - 0s - loss: 0.8838 - acc: 0.5968     \n",
      "Epoch 16/50\n",
      "124/124 [==============================] - 0s - loss: 0.8643 - acc: 0.6290     \n",
      "Epoch 17/50\n",
      "124/124 [==============================] - 0s - loss: 0.8442 - acc: 0.6774     \n",
      "Epoch 18/50\n",
      "124/124 [==============================] - 0s - loss: 0.8240 - acc: 0.7097     \n",
      "Epoch 19/50\n",
      "124/124 [==============================] - 0s - loss: 0.8036 - acc: 0.7419     \n",
      "Epoch 20/50\n",
      "124/124 [==============================] - 0s - loss: 0.7837 - acc: 0.7661     \n",
      "Epoch 21/50\n",
      "124/124 [==============================] - 0s - loss: 0.7641 - acc: 0.7903     \n",
      "Epoch 22/50\n",
      "124/124 [==============================] - 0s - loss: 0.7434 - acc: 0.7984     \n",
      "Epoch 23/50\n",
      "124/124 [==============================] - 0s - loss: 0.7220 - acc: 0.8145     \n",
      "Epoch 24/50\n",
      "124/124 [==============================] - 0s - loss: 0.7008 - acc: 0.8226     \n",
      "Epoch 25/50\n",
      "124/124 [==============================] - 0s - loss: 0.6776 - acc: 0.8306     \n",
      "Epoch 26/50\n",
      "124/124 [==============================] - 0s - loss: 0.6555 - acc: 0.8387     \n",
      "Epoch 27/50\n",
      "124/124 [==============================] - 0s - loss: 0.6360 - acc: 0.8306     \n",
      "Epoch 28/50\n",
      "124/124 [==============================] - 0s - loss: 0.6171 - acc: 0.8387     \n",
      "Epoch 29/50\n",
      "124/124 [==============================] - 0s - loss: 0.5997 - acc: 0.8387     \n",
      "Epoch 30/50\n",
      "124/124 [==============================] - 0s - loss: 0.5810 - acc: 0.8629     \n",
      "Epoch 31/50\n",
      "124/124 [==============================] - 0s - loss: 0.5646 - acc: 0.8790     \n",
      "Epoch 32/50\n",
      "124/124 [==============================] - 0s - loss: 0.5479 - acc: 0.8710     \n",
      "Epoch 33/50\n",
      "124/124 [==============================] - 0s - loss: 0.5317 - acc: 0.8629     \n",
      "Epoch 34/50\n",
      "124/124 [==============================] - 0s - loss: 0.5166 - acc: 0.8629     \n",
      "Epoch 35/50\n",
      "124/124 [==============================] - 0s - loss: 0.5012 - acc: 0.8871     \n",
      "Epoch 36/50\n",
      "124/124 [==============================] - 0s - loss: 0.4872 - acc: 0.8952     \n",
      "Epoch 37/50\n",
      "124/124 [==============================] - 0s - loss: 0.4723 - acc: 0.8952     \n",
      "Epoch 38/50\n",
      "124/124 [==============================] - 0s - loss: 0.4578 - acc: 0.8952     \n",
      "Epoch 39/50\n",
      "124/124 [==============================] - 0s - loss: 0.4451 - acc: 0.9032     \n",
      "Epoch 40/50\n",
      "124/124 [==============================] - 0s - loss: 0.4308 - acc: 0.9032     \n",
      "Epoch 41/50\n",
      "124/124 [==============================] - 0s - loss: 0.4181 - acc: 0.9194     \n",
      "Epoch 42/50\n",
      "124/124 [==============================] - 0s - loss: 0.4040 - acc: 0.9194     \n",
      "Epoch 43/50\n",
      "124/124 [==============================] - 0s - loss: 0.3911 - acc: 0.9194     \n",
      "Epoch 44/50\n",
      "124/124 [==============================] - 0s - loss: 0.3786 - acc: 0.9194     \n",
      "Epoch 45/50\n",
      "124/124 [==============================] - 0s - loss: 0.3665 - acc: 0.9274     \n",
      "Epoch 46/50\n",
      "124/124 [==============================] - 0s - loss: 0.3550 - acc: 0.9435     \n",
      "Epoch 47/50\n",
      "124/124 [==============================] - 0s - loss: 0.3431 - acc: 0.9435     \n",
      "Epoch 48/50\n",
      "124/124 [==============================] - 0s - loss: 0.3316 - acc: 0.9435     \n",
      "Epoch 49/50\n",
      "124/124 [==============================] - 0s - loss: 0.3204 - acc: 0.9516     \n",
      "Epoch 50/50\n",
      "124/124 [==============================] - 0s - loss: 0.3087 - acc: 0.9597     \n"
     ]
    },
    {
     "data": {
      "text/plain": [
       "<tensorflow.contrib.keras.python.keras.callbacks.History at 0x1eb9d97bf60>"
      ]
     },
     "execution_count": 30,
     "metadata": {},
     "output_type": "execute_result"
    }
   ],
   "source": [
    "dnn_keras_model.fit(scaled_x_train,y_train,epochs=50)"
   ]
  },
  {
   "cell_type": "code",
   "execution_count": 32,
   "metadata": {},
   "outputs": [
    {
     "name": "stdout",
     "output_type": "stream",
     "text": [
      "\r",
      "32/54 [================>.............] - ETA: 0s"
     ]
    }
   ],
   "source": [
    " predictions = dnn_keras_model.predict_classes(scaled_x_test)"
   ]
  },
  {
   "cell_type": "code",
   "execution_count": 33,
   "metadata": {
    "collapsed": true
   },
   "outputs": [],
   "source": [
    "from sklearn.metrics import classification_report"
   ]
  },
  {
   "cell_type": "code",
   "execution_count": 34,
   "metadata": {},
   "outputs": [
    {
     "name": "stdout",
     "output_type": "stream",
     "text": [
      "             precision    recall  f1-score   support\n",
      "\n",
      "          0       1.00      1.00      1.00        19\n",
      "          1       1.00      1.00      1.00        22\n",
      "          2       1.00      1.00      1.00        13\n",
      "\n",
      "avg / total       1.00      1.00      1.00        54\n",
      "\n"
     ]
    }
   ],
   "source": [
    "print(classification_report(predictions,y_test))"
   ]
  },
  {
   "cell_type": "code",
   "execution_count": null,
   "metadata": {
    "collapsed": true
   },
   "outputs": [],
   "source": []
  }
 ],
 "metadata": {
  "kernelspec": {
   "display_name": "Python 3",
   "language": "python",
   "name": "python3"
  },
  "language_info": {
   "codemirror_mode": {
    "name": "ipython",
    "version": 3
   },
   "file_extension": ".py",
   "mimetype": "text/x-python",
   "name": "python",
   "nbconvert_exporter": "python",
   "pygments_lexer": "ipython3",
   "version": "3.5.4"
  }
 },
 "nbformat": 4,
 "nbformat_minor": 2
}
